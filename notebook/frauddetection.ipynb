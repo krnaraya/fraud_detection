{
 "cells": [
  {
   "cell_type": "markdown",
   "metadata": {},
   "source": [
    "# Setup"
   ]
  },
  {
   "cell_type": "code",
   "execution_count": 1,
   "metadata": {},
   "outputs": [],
   "source": [
    "# Enable intelliense\n",
    "%config IPCompleter.greedy=True\n",
    "\n",
    "%matplotlib inline\n",
    "import matplotlib.pylab as plt\n",
    "import pandas as pd\n",
    "from sklearn.metrics import confusion_matrix\n",
    "\n",
    "def plot_confusion_matrix(train_labels, train_pred):\n",
    "    fig = plt.figure(figsize=(6,6))\n",
    "    ax = plt.subplot()\n",
    "\n",
    "    labels = list(train_labels['Class'].value_counts().index)\n",
    "    desc_labels = ['Legit', 'Fraud']\n",
    "    #print(labels)\n",
    "\n",
    "    confusion = confusion_matrix(train_labels, train_pred, labels=labels)\n",
    "    ax.matshow(np.log(confusion + 1.001))\n",
    "\n",
    "    ax.set_xticks(range(len(labels)))\n",
    "    ax.set_yticks(range(len(labels)))\n",
    "\n",
    "    ax.set_xticklabels(desc_labels, rotation=90);\n",
    "    ax.set_yticklabels(desc_labels);\n",
    "\n",
    "    for i in range(len(labels)):\n",
    "        for j in range(len(labels)):        \n",
    "            ax.text(j, i, confusion[i,j], va='center', ha='center').set_backgroundcolor(\"white\")\n",
    "\n",
    "    plt.xlabel('Predicted')    \n",
    "    plt.ylabel('Actual')\n",
    "    \n",
    "    return fig"
   ]
  },
  {
   "cell_type": "markdown",
   "metadata": {},
   "source": [
    "# Select Input: \"Kernel Restart & Run All\" will block until the \"Proceed\" button is clicked after input selection."
   ]
  },
  {
   "cell_type": "code",
   "execution_count": 2,
   "metadata": {},
   "outputs": [
    {
     "data": {
      "application/vnd.jupyter.widget-view+json": {
       "model_id": "0ef8e64b733b4902bd50b39b98b7fab0",
       "version_major": 2,
       "version_minor": 0
      },
      "text/plain": [
       "VBox(children=(RadioButtons(description='Select Input:', options=('File', 'Spark', 'VDB'), value='File'), Butt…"
      ]
     },
     "metadata": {},
     "output_type": "display_data"
    },
    {
     "data": {
      "application/javascript": [
       "Jupyter.notebook.select_next().execute_cells_below()"
      ],
      "text/plain": [
       "<IPython.core.display.Javascript object>"
      ]
     },
     "metadata": {},
     "output_type": "display_data"
    }
   ],
   "source": [
    "# you need to 'pip3 install ipython_blocking' for blocking to work\n",
    "import ipywidgets as widgets\n",
    "from IPython.display import display\n",
    "import ipython_blocking\n",
    "\n",
    "selectw = widgets.RadioButtons(\n",
    "    options=['File', 'Spark', 'VDB'],\n",
    "    description='Select Input:',\n",
    "    disabled=False\n",
    ")\n",
    "\n",
    "button = widgets.Button(description='Proceed',layout= widgets.Layout(border='1px solid black'))\n",
    "\n",
    "box = widgets.VBox(children=[selectw, button], layout=widgets.Layout(border='solid', width='240px', height='160px'))\n",
    "display(box)"
   ]
  },
  {
   "cell_type": "markdown",
   "metadata": {},
   "source": [
    "# Use Magic to Block Until \"Proceed\" Button Clicked"
   ]
  },
  {
   "cell_type": "code",
   "execution_count": 5,
   "metadata": {},
   "outputs": [],
   "source": [
    "%blockrun button"
   ]
  },
  {
   "cell_type": "markdown",
   "metadata": {},
   "source": [
    "# Read Data Based On Selection"
   ]
  },
  {
   "cell_type": "code",
   "execution_count": 6,
   "metadata": {},
   "outputs": [],
   "source": [
    "if selectw.value == 'Spark':\n",
    "    print(\"Spark input not yet implemented. Switching to use: File\")\n",
    "    selectw.value = 'File'"
   ]
  },
  {
   "cell_type": "code",
   "execution_count": 7,
   "metadata": {},
   "outputs": [
    {
     "name": "stdout",
     "output_type": "stream",
     "text": [
      "Data loaded using VDB.\n"
     ]
    }
   ],
   "source": [
    "if selectw.value == 'VDB':\n",
    "    import jaydebeapi\n",
    "    \n",
    "    # The Vitual Database or VDB was created using Red Hat Data Virtualization.\n",
    "    # The VDB provides a virtual view of credit card fraud data consolidated from 2 sources:\n",
    "    # 1. MySQL (historical data from data warehouse)\n",
    "    # 2. A CSV file (recent data)\n",
    "    \n",
    "    # set up VDB access\n",
    "    # ****************** replace IP address with your VDB service cluster IP\n",
    "    url = \"jdbc:teiid:csvrdbmsdb.1@mm://172.30.126.110:31000\"\n",
    "    driver = \"org.teiid.jdbc.TeiidDriver\"\n",
    "    user = \"user\"\n",
    "    password = \"mypassword\"\n",
    "    jarfile = \"jdbc/teiid-9.0.6-jdbc.jar\"\n",
    "    conn = jaydebeapi.connect(driver, url, [user, password], jarfile)\n",
    "    SQL_Query = \"select * from CreditFraud\"\n",
    "\n",
    "    df = pd.read_sql_query(SQL_Query, conn)\n",
    "    conn.close()\n",
    "\n",
    "    # rename specific columns\n",
    "    df.rename(columns={'Time_':'Time', 'Class_':'Class'}, inplace=True)\n",
    "    \n",
    "    print(\"Data loaded using VDB.\")\n"
   ]
  },
  {
   "cell_type": "code",
   "execution_count": 8,
   "metadata": {},
   "outputs": [],
   "source": [
    "if selectw.value == 'File':\n",
    "\n",
    "    print(\"Reading csv data\")\n",
    "    df = pd.read_csv (\"data/creditcard.csv\")\n",
    "    # rename specific columns\n",
    "    df.rename(columns={'Unnamed: 0':'Id'}, inplace=True)\n",
    "    \n",
    "    print(\"Data loaded using File.\")\n"
   ]
  },
  {
   "cell_type": "code",
   "execution_count": 9,
   "metadata": {},
   "outputs": [
    {
     "name": "stdout",
     "output_type": "stream",
     "text": [
      "Total number of credit card transaction rows: 10000\n",
      "Total number of rows with fraud: 38\n",
      "Id          int64\n",
      "Time        int64\n",
      "V1        float64\n",
      "V2        float64\n",
      "V3        float64\n",
      "V4        float64\n",
      "V5        float64\n",
      "V6        float64\n",
      "V7        float64\n",
      "V8        float64\n",
      "V9        float64\n",
      "V10       float64\n",
      "V11       float64\n",
      "V12       float64\n",
      "V13       float64\n",
      "V14       float64\n",
      "V15       float64\n",
      "V16       float64\n",
      "V17       float64\n",
      "V18       float64\n",
      "V19       float64\n",
      "V20       float64\n",
      "V21       float64\n",
      "V22       float64\n",
      "V23       float64\n",
      "V24       float64\n",
      "V25       float64\n",
      "V26       float64\n",
      "V27       float64\n",
      "V28       float64\n",
      "Amount    float64\n",
      "Class       int64\n",
      "dtype: object\n"
     ]
    }
   ],
   "source": [
    "### Display some info about the data\n",
    "print(\"Total number of credit card transaction rows: %d\" % df.shape[0])\n",
    "\n",
    "### Check the total number of rows with fraud detected\n",
    "print(\"Total number of rows with fraud: %d\" % df[(df['Class']==1)].shape[0])\n",
    "\n",
    "### Rough check if data columns have consistent datatype (not Object)\n",
    "print(df.dtypes)"
   ]
  },
  {
   "cell_type": "markdown",
   "metadata": {},
   "source": [
    "# Train Sklearn Random Forest Model"
   ]
  },
  {
   "cell_type": "code",
   "execution_count": 10,
   "metadata": {},
   "outputs": [
    {
     "name": "stdout",
     "output_type": "stream",
     "text": [
      "Samples: 10000\n",
      "Training sample size: 7500\n",
      "Frauds transactions in training sample: 0.003600\n",
      "Testing sample size: 2500\n",
      "Frauds transactions in testing sample: 0.004400\n",
      "Number of features: 30\n"
     ]
    }
   ],
   "source": [
    "from sklearn.ensemble import RandomForestClassifier\n",
    "import numpy as np\n",
    "\n",
    "# shuffle the rows\n",
    "df = df.sample(frac=1).reset_index()\n",
    "\n",
    "#Order the credit card transaction by transaction time\n",
    "#df.sort_values(by=['Time'])\n",
    "\n",
    "#number of rows in the dataset\n",
    "n_samples = df.shape[0]\n",
    "print(\"Samples: %d\" % n_samples)\n",
    "\n",
    "#Split into train and test\n",
    "train_size = 0.75\n",
    "\n",
    "train_limit = int(n_samples * train_size)\n",
    "df_train = df.iloc[:train_limit]\n",
    "df_test = df.iloc[train_limit:]\n",
    "\n",
    "\n",
    "print('Training sample size: %d' % df_train.shape[0])\n",
    "frauds_in_train_tx = df_train[df_train.Class == 1].shape[0]\n",
    "print('Frauds transactions in training sample: %f' % (frauds_in_train_tx / train_limit))\n",
    "print('Testing sample size: %d' % df_test.shape[0])\n",
    "frauds_in_test_tx = df_test[df_test.Class == 1].shape[0]\n",
    "print('Frauds transactions in testing sample: %f' % (frauds_in_test_tx / (n_samples - train_limit)))\n",
    "      \n",
    "#Define features and target variables for convenience.\n",
    "drop_columns = ['Id', 'Time', 'Class']\n",
    "select_column=['Class']\n",
    "\n",
    "#Create Train Datasets\n",
    "features_train = df_train.drop(drop_columns, axis=1)\n",
    "target_train = df_train.loc[:, select_column]\n",
    "#print(\"*Data Columns in features_train:\")\n",
    "#print(features_train.columns)\n",
    "#print(\"*Data Columns in target_train:\")\n",
    "#print(target_train.columns)\n",
    "\n",
    "\n",
    "#Create Test Datasets\n",
    "features_test = df_test.drop(drop_columns, axis=1)\n",
    "target_test = df_test.loc[:, select_column]\n",
    "\n",
    "#Create a RondomForest Classifier mode\n",
    "model = RandomForestClassifier(n_estimators=100, max_depth=4, n_jobs=10)\n",
    "\n",
    "model.fit(features_train, target_train.values.ravel())\n",
    "\n",
    "pred_train = model.predict(features_train)\n",
    "pred_test = model.predict(features_test)\n",
    "\n",
    "pred_train_prob = model.predict_proba(features_train)\n",
    "pred_test_prob = model.predict_proba(features_test)\n",
    "\n",
    "print(\"Number of features: %d\" % len(model.feature_importances_))"
   ]
  },
  {
   "cell_type": "markdown",
   "metadata": {},
   "source": [
    "# Plot the Confusion Matrix"
   ]
  },
  {
   "cell_type": "code",
   "execution_count": 11,
   "metadata": {
    "scrolled": true
   },
   "outputs": [
    {
     "data": {
      "image/png": "[encoded data removed]",
      "text/plain": [
       "<Figure size 432x432 with 1 Axes>"
      ]
     },
     "metadata": {
      "needs_background": "light"
     },
     "output_type": "display_data"
    },
    {
     "data": {
      "image/png": "[encoded data removed]",
      "text/plain": [
       "<Figure size 432x432 with 1 Axes>"
      ]
     },
     "metadata": {
      "needs_background": "light"
     },
     "output_type": "display_data"
    }
   ],
   "source": [
    "_=plot_confusion_matrix(target_train, model.predict(features_train))\n",
    "\n",
    "_=plot_confusion_matrix(target_test, model.predict(features_test))"
   ]
  },
  {
   "cell_type": "markdown",
   "metadata": {},
   "source": [
    "# Check the Important Features"
   ]
  },
  {
   "cell_type": "code",
   "execution_count": 12,
   "metadata": {},
   "outputs": [
    {
     "data": {
      "image/png": "[encoded data removed]",
      "text/plain": [
       "<Figure size 720x720 with 1 Axes>"
      ]
     },
     "metadata": {
      "needs_background": "light"
     },
     "output_type": "display_data"
    }
   ],
   "source": [
    "import operator\n",
    "\n",
    "feat_imp = sorted(zip(features_train.columns, model.feature_importances_), key=operator.itemgetter(1), reverse=True)\n",
    "X = [i[0] for i in feat_imp]\n",
    "Y = [i[1] for i in feat_imp]\n",
    "plt.figure(figsize=(10.,10.))\n",
    "\n",
    "# plt.plot([i[0] for i in feat_imp], [i[1] for i in feat_imp], 'p-')\n",
    "# sorts the X axis by the label name resulting in a weird-looking plot\n",
    "plt.plot(Y, 'p-')\n",
    "_ = plt.xticks(range(len(Y)), X, rotation=90)"
   ]
  },
  {
   "cell_type": "markdown",
   "metadata": {},
   "source": [
    "##### Re-create the model with Important Features"
   ]
  },
  {
   "cell_type": "markdown",
   "metadata": {},
   "source": [
    "# Alternatively, Perform a Correlation Analysis \n",
    "We will come to a similar conclusion on which features to include in the model: those with a low correlation coefficient should be excluded to avoid overfitting.\n",
    "The graph has the features with the highest correlation coefficent plotted first. Class is to be excluded as it is the target for the correlation.\n",
    "This shows the importance of data analysis."
   ]
  },
  {
   "cell_type": "code",
   "execution_count": 13,
   "metadata": {},
   "outputs": [
    {
     "data": {
      "text/plain": [
       "<matplotlib.axes._subplots.AxesSubplot at 0x7fa96929f908>"
      ]
     },
     "execution_count": 13,
     "metadata": {},
     "output_type": "execute_result"
    },
    {
     "data": {
      "image/png": "[encoded data removed]",
      "text/plain": [
       "<Figure size 1440x720 with 1 Axes>"
      ]
     },
     "metadata": {
      "needs_background": "light"
     },
     "output_type": "display_data"
    }
   ],
   "source": [
    "corr = df.loc[:, 'Class']\n",
    "\n",
    "dfc = df.corrwith(corr).to_frame()\n",
    "# use a temporary column to sort and then discard the column\n",
    "dfc = (dfc.assign(A=abs(dfc))\n",
    "    .sort_values(['A'],ascending=False)\n",
    "    .drop('A', 1))\n",
    "#print(dfc)\n",
    "dfc.plot.bar(\n",
    "        figsize = (20, 10), title = \"Correlation with Class\", fontsize = 15,\n",
    "        rot = 45, grid = True)"
   ]
  },
  {
   "cell_type": "markdown",
   "metadata": {},
   "source": [
    "# Re-create the model with Important Features"
   ]
  },
  {
   "cell_type": "code",
   "execution_count": 14,
   "metadata": {},
   "outputs": [
    {
     "name": "stdout",
     "output_type": "stream",
     "text": [
      "feature_test columns:\n",
      "Index(['V3', 'V4', 'V10', 'V11', 'V12', 'V14', 'V17'], dtype='object')\n",
      "Number of features\n",
      "7\n"
     ]
    },
    {
     "data": {
      "text/plain": [
       "['model.pkl']"
      ]
     },
     "execution_count": 14,
     "metadata": {},
     "output_type": "execute_result"
    }
   ],
   "source": [
    "import joblib\n",
    "\n",
    "#Define features and target variables.\n",
    "\n",
    "# Choose either the features definition based on important features or correlation\n",
    "\n",
    "## From the important features graph we only want seven important features:\n",
    "##   V3,V4,V10,V11,V12,V14,V17\n",
    "features = ['V3','V4','V10','V11','V12','V14','V17']\n",
    "\n",
    "## using the correllation graph, select the top seven important features:\n",
    "## V14,V17,V3,V12,V10,V16,V11\n",
    "#features = ['V14','V17','V3','V12','V10','V16','V11']\n",
    "\n",
    "non_features = [i for i in df_train.columns if i not in features]\n",
    "class_column=['Class']\n",
    "\n",
    "\n",
    "features_train = df_train.drop(non_features, axis=1)\n",
    "target_train = df_train.loc[:, \"Class\"]\n",
    "\n",
    "features_test = df_test.drop(non_features, axis=1)\n",
    "target_test = df_test.loc[:, \"Class\"]\n",
    "print(\"feature_test columns:\")\n",
    "print(features_test.columns)\n",
    "\n",
    "model = RandomForestClassifier(n_estimators=200, max_depth=6, n_jobs=10, class_weight='balanced')\n",
    "\n",
    "model.fit(features_train, target_train.values.ravel())\n",
    "\n",
    "pred_train = model.predict(features_train)\n",
    "pred_test = model.predict(features_test)\n",
    "\n",
    "pred_train_prob = model.predict_proba(features_train)\n",
    "pred_test_prob = model.predict_proba(features_test)\n",
    "\n",
    "print(\"Number of features\")\n",
    "print(len(model.feature_importances_))\n",
    "  \n",
    "#save mode in filesystem\n",
    "joblib.dump(model, 'model.pkl') "
   ]
  },
  {
   "cell_type": "markdown",
   "metadata": {},
   "source": [
    "# Re-plot the Confusion Matrix"
   ]
  },
  {
   "cell_type": "code",
   "execution_count": 15,
   "metadata": {},
   "outputs": [
    {
     "data": {
      "image/png": "[encoded data removed]",
      "text/plain": [
       "<Figure size 432x432 with 1 Axes>"
      ]
     },
     "metadata": {
      "needs_background": "light"
     },
     "output_type": "display_data"
    },
    {
     "data": {
      "image/png": "[encoded data removed]",
      "text/plain": [
       "<Figure size 432x432 with 1 Axes>"
      ]
     },
     "metadata": {
      "needs_background": "light"
     },
     "output_type": "display_data"
    }
   ],
   "source": [
    "_ = plot_confusion_matrix(target_train.to_frame(), model.predict(features_train))\n",
    "\n",
    "_ = plot_confusion_matrix(target_test.to_frame(), model.predict(features_test))"
   ]
  },
  {
   "cell_type": "markdown",
   "metadata": {},
   "source": [
    "# Test the New Model"
   ]
  },
  {
   "cell_type": "code",
   "execution_count": 16,
   "metadata": {},
   "outputs": [
    {
     "name": "stdout",
     "output_type": "stream",
     "text": [
      "[1]\n",
      "[1]\n",
      "[1]\n",
      "[0]\n",
      "[1]\n",
      "[1]\n",
      "[1]\n",
      "[1]\n",
      "[1]\n",
      "[1]\n",
      "[1]\n"
     ]
    }
   ],
   "source": [
    "import time\n",
    "\n",
    "\n",
    "fraudTest = df_test.loc[df_test['Class']== 1]\n",
    "notFraudTest = df_test.loc[df_test['Class']== 0]\n",
    "\n",
    "fraudTestFeatures = fraudTest.drop(columns=non_features)\n",
    "notFraudTestFeatures = notFraudTest.drop(columns=non_features)\n",
    "\n",
    "for index, row in fraudTestFeatures.iterrows():\n",
    "    data = row\n",
    "    rowdf = pd.DataFrame([data.tolist()], columns = features)\n",
    "    print(model.predict(rowdf))\n",
    "    time.sleep(2)\n"
   ]
  }
 ],
 "metadata": {
  "kernelspec": {
   "display_name": "Python 3",
   "language": "python",
   "name": "python3"
  },
  "language_info": {
   "codemirror_mode": {
    "name": "ipython",
    "version": 3
   },
   "file_extension": ".py",
   "mimetype": "text/x-python",
   "name": "python",
   "nbconvert_exporter": "python",
   "pygments_lexer": "ipython3",
   "version": "3.6.3"
  }
 },
 "nbformat": 4,
 "nbformat_minor": 4
}
